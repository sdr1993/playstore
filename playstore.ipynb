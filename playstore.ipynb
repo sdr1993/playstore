{
 "cells": [
  {
   "cell_type": "code",
   "execution_count": 1,
   "metadata": {},
   "outputs": [],
   "source": [
    "import numpy as np\n",
    "import pandas as pd\n",
    "import matplotlib.pyplot as plt\n",
    "import seaborn as sb\n",
    "import warnings\n",
    "warnings.filterwarnings('ignore')"
   ]
  },
  {
   "cell_type": "markdown",
   "metadata": {},
   "source": [
    "#### Loading the data ####"
   ]
  },
  {
   "cell_type": "code",
   "execution_count": 2,
   "metadata": {},
   "outputs": [
    {
     "data": {
      "text/html": [
       "<div>\n",
       "<style scoped>\n",
       "    .dataframe tbody tr th:only-of-type {\n",
       "        vertical-align: middle;\n",
       "    }\n",
       "\n",
       "    .dataframe tbody tr th {\n",
       "        vertical-align: top;\n",
       "    }\n",
       "\n",
       "    .dataframe thead th {\n",
       "        text-align: right;\n",
       "    }\n",
       "</style>\n",
       "<table border=\"1\" class=\"dataframe\">\n",
       "  <thead>\n",
       "    <tr style=\"text-align: right;\">\n",
       "      <th></th>\n",
       "      <th>App</th>\n",
       "      <th>Category</th>\n",
       "      <th>Rating</th>\n",
       "      <th>Reviews</th>\n",
       "      <th>Size</th>\n",
       "      <th>Installs</th>\n",
       "      <th>Type</th>\n",
       "      <th>Price</th>\n",
       "      <th>Content Rating</th>\n",
       "      <th>Genres</th>\n",
       "      <th>Last Updated</th>\n",
       "      <th>Current Ver</th>\n",
       "      <th>Android Ver</th>\n",
       "    </tr>\n",
       "  </thead>\n",
       "  <tbody>\n",
       "    <tr>\n",
       "      <th>8353</th>\n",
       "      <td>Fix Error Google Playstore</td>\n",
       "      <td>BOOKS_AND_REFERENCE</td>\n",
       "      <td>4.3</td>\n",
       "      <td>18</td>\n",
       "      <td>5.7M</td>\n",
       "      <td>1,000+</td>\n",
       "      <td>Free</td>\n",
       "      <td>0</td>\n",
       "      <td>Everyone</td>\n",
       "      <td>Books &amp; Reference</td>\n",
       "      <td>July 22, 2017</td>\n",
       "      <td>1.0</td>\n",
       "      <td>4.0 and up</td>\n",
       "    </tr>\n",
       "    <tr>\n",
       "      <th>1397</th>\n",
       "      <td>Calorie Counter by FatSecret</td>\n",
       "      <td>HEALTH_AND_FITNESS</td>\n",
       "      <td>4.4</td>\n",
       "      <td>229210</td>\n",
       "      <td>Varies with device</td>\n",
       "      <td>10,000,000+</td>\n",
       "      <td>Free</td>\n",
       "      <td>0</td>\n",
       "      <td>Everyone</td>\n",
       "      <td>Health &amp; Fitness</td>\n",
       "      <td>July 31, 2018</td>\n",
       "      <td>Varies with device</td>\n",
       "      <td>Varies with device</td>\n",
       "    </tr>\n",
       "    <tr>\n",
       "      <th>10544</th>\n",
       "      <td>FK Dukla Prague</td>\n",
       "      <td>SPORTS</td>\n",
       "      <td>NaN</td>\n",
       "      <td>0</td>\n",
       "      <td>26M</td>\n",
       "      <td>10+</td>\n",
       "      <td>Free</td>\n",
       "      <td>0</td>\n",
       "      <td>Everyone</td>\n",
       "      <td>Sports</td>\n",
       "      <td>February 28, 2018</td>\n",
       "      <td>1.0</td>\n",
       "      <td>4.1 and up</td>\n",
       "    </tr>\n",
       "    <tr>\n",
       "      <th>3477</th>\n",
       "      <td>Google Docs</td>\n",
       "      <td>PRODUCTIVITY</td>\n",
       "      <td>4.3</td>\n",
       "      <td>815981</td>\n",
       "      <td>Varies with device</td>\n",
       "      <td>100,000,000+</td>\n",
       "      <td>Free</td>\n",
       "      <td>0</td>\n",
       "      <td>Everyone</td>\n",
       "      <td>Productivity</td>\n",
       "      <td>August 6, 2018</td>\n",
       "      <td>Varies with device</td>\n",
       "      <td>Varies with device</td>\n",
       "    </tr>\n",
       "    <tr>\n",
       "      <th>4287</th>\n",
       "      <td>K PLUS</td>\n",
       "      <td>FINANCE</td>\n",
       "      <td>4.4</td>\n",
       "      <td>124324</td>\n",
       "      <td>Varies with device</td>\n",
       "      <td>10,000,000+</td>\n",
       "      <td>Free</td>\n",
       "      <td>0</td>\n",
       "      <td>Everyone</td>\n",
       "      <td>Finance</td>\n",
       "      <td>June 26, 2018</td>\n",
       "      <td>4.6.0</td>\n",
       "      <td>4.2 and up</td>\n",
       "    </tr>\n",
       "  </tbody>\n",
       "</table>\n",
       "</div>"
      ],
      "text/plain": [
       "                                App             Category  Rating Reviews  \\\n",
       "8353     Fix Error Google Playstore  BOOKS_AND_REFERENCE     4.3      18   \n",
       "1397   Calorie Counter by FatSecret   HEALTH_AND_FITNESS     4.4  229210   \n",
       "10544               FK Dukla Prague               SPORTS     NaN       0   \n",
       "3477                    Google Docs         PRODUCTIVITY     4.3  815981   \n",
       "4287                         K PLUS              FINANCE     4.4  124324   \n",
       "\n",
       "                     Size      Installs  Type Price Content Rating  \\\n",
       "8353                 5.7M        1,000+  Free     0       Everyone   \n",
       "1397   Varies with device   10,000,000+  Free     0       Everyone   \n",
       "10544                 26M           10+  Free     0       Everyone   \n",
       "3477   Varies with device  100,000,000+  Free     0       Everyone   \n",
       "4287   Varies with device   10,000,000+  Free     0       Everyone   \n",
       "\n",
       "                  Genres       Last Updated         Current Ver  \\\n",
       "8353   Books & Reference      July 22, 2017                 1.0   \n",
       "1397    Health & Fitness      July 31, 2018  Varies with device   \n",
       "10544             Sports  February 28, 2018                 1.0   \n",
       "3477        Productivity     August 6, 2018  Varies with device   \n",
       "4287             Finance      June 26, 2018               4.6.0   \n",
       "\n",
       "              Android Ver  \n",
       "8353           4.0 and up  \n",
       "1397   Varies with device  \n",
       "10544          4.1 and up  \n",
       "3477   Varies with device  \n",
       "4287           4.2 and up  "
      ]
     },
     "execution_count": 2,
     "metadata": {},
     "output_type": "execute_result"
    }
   ],
   "source": [
    "data = pd.read_csv('C:/Users/Sarthak/Documents/googleplaystore.csv')\n",
    "data.sample(5)"
   ]
  },
  {
   "cell_type": "markdown",
   "metadata": {},
   "source": [
    "### Assessing data ###"
   ]
  },
  {
   "cell_type": "code",
   "execution_count": 3,
   "metadata": {},
   "outputs": [
    {
     "data": {
      "text/plain": [
       "(10841, 13)"
      ]
     },
     "execution_count": 3,
     "metadata": {},
     "output_type": "execute_result"
    }
   ],
   "source": [
    "data.shape"
   ]
  },
  {
   "cell_type": "code",
   "execution_count": 4,
   "metadata": {
    "scrolled": true
   },
   "outputs": [
    {
     "name": "stdout",
     "output_type": "stream",
     "text": [
      "<class 'pandas.core.frame.DataFrame'>\n",
      "RangeIndex: 10841 entries, 0 to 10840\n",
      "Data columns (total 13 columns):\n",
      "App               10841 non-null object\n",
      "Category          10841 non-null object\n",
      "Rating            9367 non-null float64\n",
      "Reviews           10841 non-null object\n",
      "Size              10841 non-null object\n",
      "Installs          10841 non-null object\n",
      "Type              10840 non-null object\n",
      "Price             10841 non-null object\n",
      "Content Rating    10840 non-null object\n",
      "Genres            10841 non-null object\n",
      "Last Updated      10841 non-null object\n",
      "Current Ver       10833 non-null object\n",
      "Android Ver       10838 non-null object\n",
      "dtypes: float64(1), object(12)\n",
      "memory usage: 1.1+ MB\n"
     ]
    }
   ],
   "source": [
    "data.info()"
   ]
  },
  {
   "cell_type": "markdown",
   "metadata": {},
   "source": [
    "#### Data Preprocessing: ####"
   ]
  },
  {
   "cell_type": "code",
   "execution_count": 5,
   "metadata": {},
   "outputs": [
    {
     "data": {
      "text/plain": [
       "483"
      ]
     },
     "execution_count": 5,
     "metadata": {},
     "output_type": "execute_result"
    }
   ],
   "source": [
    "# Check if duplicates exist\n",
    "data.duplicated().sum()"
   ]
  },
  {
   "cell_type": "code",
   "execution_count": 6,
   "metadata": {},
   "outputs": [
    {
     "data": {
      "text/plain": [
       "0"
      ]
     },
     "execution_count": 6,
     "metadata": {},
     "output_type": "execute_result"
    }
   ],
   "source": [
    "# droping duplicates\n",
    "data.drop_duplicates(inplace=True)\n",
    "# rechecking dataframe\n",
    "sum(data.duplicated())"
   ]
  },
  {
   "cell_type": "code",
   "execution_count": 7,
   "metadata": {
    "scrolled": true
   },
   "outputs": [
    {
     "data": {
      "text/plain": [
       "App               9660\n",
       "Category            34\n",
       "Rating              40\n",
       "Reviews           6002\n",
       "Size               462\n",
       "Installs            22\n",
       "Type                 3\n",
       "Price               93\n",
       "Content Rating       6\n",
       "Genres             120\n",
       "Last Updated      1378\n",
       "Current Ver       2832\n",
       "Android Ver         33\n",
       "dtype: int64"
      ]
     },
     "execution_count": 7,
     "metadata": {},
     "output_type": "execute_result"
    }
   ],
   "source": [
    "# checking for unique values\n",
    "data.nunique()"
   ]
  },
  {
   "cell_type": "code",
   "execution_count": 8,
   "metadata": {},
   "outputs": [
    {
     "name": "stdout",
     "output_type": "stream",
     "text": [
      "App                  0\n",
      "Category             0\n",
      "Rating            1465\n",
      "Reviews              0\n",
      "Size                 0\n",
      "Installs             0\n",
      "Type                 1\n",
      "Price                0\n",
      "Content Rating       1\n",
      "Genres               0\n",
      "Last Updated         0\n",
      "Current Ver          8\n",
      "Android Ver          3\n",
      "dtype: int64\n"
     ]
    }
   ],
   "source": [
    "#Dropping Rows with Null values\n",
    "print(data.isnull().sum())\n",
    "data.dropna(inplace=True)"
   ]
  },
  {
   "cell_type": "markdown",
   "metadata": {},
   "source": [
    "##### Handling datatypes: #####"
   ]
  },
  {
   "cell_type": "markdown",
   "metadata": {},
   "source": [
    "Define: \n",
    "\n",
    "'Installs' column shows datatype string which needs to be converted to float after omitting the special characters."
   ]
  },
  {
   "cell_type": "markdown",
   "metadata": {},
   "source": [
    "Code:"
   ]
  },
  {
   "cell_type": "code",
   "execution_count": 9,
   "metadata": {},
   "outputs": [
    {
     "data": {
      "text/plain": [
       "0       10000.0\n",
       "1      500000.0\n",
       "2     5000000.0\n",
       "3    50000000.0\n",
       "4      100000.0\n",
       "Name: Installs, dtype: float64"
      ]
     },
     "execution_count": 9,
     "metadata": {},
     "output_type": "execute_result"
    }
   ],
   "source": [
    "newInstalls = []\n",
    "\n",
    "for row in data.Installs:\n",
    "    \n",
    "    row = row[:-1]\n",
    "    newRow = row.replace(\",\", \"\")\n",
    "    newInstalls.append(float(newRow))\n",
    "    \n",
    "\n",
    "data.Installs = newInstalls\n",
    "data.Installs.head()"
   ]
  },
  {
   "cell_type": "markdown",
   "metadata": {},
   "source": [
    "Define:"
   ]
  },
  {
   "cell_type": "markdown",
   "metadata": {},
   "source": [
    "Changing 'Category', 'Type' & 'Content Rating' columns to category."
   ]
  },
  {
   "cell_type": "markdown",
   "metadata": {},
   "source": [
    "Code:"
   ]
  },
  {
   "cell_type": "code",
   "execution_count": 10,
   "metadata": {},
   "outputs": [],
   "source": [
    "data['Category'] = data.Category.astype('category')\n",
    "data['Type'] = data.Type.astype('category')\n",
    "data['Content Rating'] = data['Content Rating'].astype('category')"
   ]
  },
  {
   "cell_type": "markdown",
   "metadata": {},
   "source": [
    "Define:"
   ]
  },
  {
   "cell_type": "markdown",
   "metadata": {},
   "source": [
    "'Size' column shows datatype string which needs to be converted to float after omitting the special characters."
   ]
  },
  {
   "cell_type": "markdown",
   "metadata": {},
   "source": [
    "Code:"
   ]
  },
  {
   "cell_type": "code",
   "execution_count": 11,
   "metadata": {},
   "outputs": [],
   "source": [
    "# Data cleaning for \"Size\" column\n",
    "data['Size'] = data['Size'].map(lambda x: x.rstrip('M'))\n",
    "data['Size'] = data['Size'].map(lambda x: str(round((float(x.rstrip('k'))/1024), 1)) if x[-1]=='k' else x)\n",
    "data['Size'] = data['Size'].map(lambda x: np.nan if x.startswith('Varies') else x)"
   ]
  },
  {
   "cell_type": "code",
   "execution_count": 12,
   "metadata": {},
   "outputs": [],
   "source": [
    "# Converting Size to float\n",
    "data['Size'] = data['Size'].astype('float')"
   ]
  },
  {
   "cell_type": "markdown",
   "metadata": {},
   "source": [
    "Define:"
   ]
  },
  {
   "cell_type": "markdown",
   "metadata": {},
   "source": [
    "A close look at the data reveals 'Reviews' column has a single entry of 3.0M whereas rest are numeric. Therefore this needs to handled."
   ]
  },
  {
   "cell_type": "markdown",
   "metadata": {},
   "source": [
    "Code:"
   ]
  },
  {
   "cell_type": "code",
   "execution_count": 13,
   "metadata": {},
   "outputs": [],
   "source": [
    "# Data cleaning for \"Reviews\" column\n",
    "data['Reviews'] = data['Reviews'].map(lambda x: float(x.rstrip('M'))*1000000)"
   ]
  },
  {
   "cell_type": "code",
   "execution_count": 14,
   "metadata": {},
   "outputs": [
    {
     "name": "stdout",
     "output_type": "stream",
     "text": [
      "App                  0\n",
      "Category             0\n",
      "Rating               0\n",
      "Reviews              0\n",
      "Size              1468\n",
      "Installs             0\n",
      "Type                 0\n",
      "Price                0\n",
      "Content Rating       0\n",
      "Genres               0\n",
      "Last Updated         0\n",
      "Current Ver          0\n",
      "Android Ver          0\n",
      "dtype: int64\n"
     ]
    }
   ],
   "source": [
    "#droping nulls again\n",
    "print(data.isnull().sum())\n",
    "data.dropna(inplace=True)"
   ]
  },
  {
   "cell_type": "markdown",
   "metadata": {},
   "source": [
    "Re-checking datatypes:"
   ]
  },
  {
   "cell_type": "code",
   "execution_count": 15,
   "metadata": {},
   "outputs": [
    {
     "data": {
      "text/plain": [
       "App                 object\n",
       "Category          category\n",
       "Rating             float64\n",
       "Reviews            float64\n",
       "Size               float64\n",
       "Installs           float64\n",
       "Type              category\n",
       "Price               object\n",
       "Content Rating    category\n",
       "Genres              object\n",
       "Last Updated        object\n",
       "Current Ver         object\n",
       "Android Ver         object\n",
       "dtype: object"
      ]
     },
     "execution_count": 15,
     "metadata": {},
     "output_type": "execute_result"
    }
   ],
   "source": [
    "data.dtypes"
   ]
  },
  {
   "cell_type": "markdown",
   "metadata": {},
   "source": [
    "##### Droping all irrelavant columns#####"
   ]
  },
  {
   "cell_type": "code",
   "execution_count": 16,
   "metadata": {},
   "outputs": [
    {
     "data": {
      "text/html": [
       "<div>\n",
       "<style scoped>\n",
       "    .dataframe tbody tr th:only-of-type {\n",
       "        vertical-align: middle;\n",
       "    }\n",
       "\n",
       "    .dataframe tbody tr th {\n",
       "        vertical-align: top;\n",
       "    }\n",
       "\n",
       "    .dataframe thead th {\n",
       "        text-align: right;\n",
       "    }\n",
       "</style>\n",
       "<table border=\"1\" class=\"dataframe\">\n",
       "  <thead>\n",
       "    <tr style=\"text-align: right;\">\n",
       "      <th></th>\n",
       "      <th>App</th>\n",
       "      <th>Category</th>\n",
       "      <th>Rating</th>\n",
       "      <th>Reviews</th>\n",
       "      <th>Size</th>\n",
       "      <th>Installs</th>\n",
       "      <th>Type</th>\n",
       "      <th>Content Rating</th>\n",
       "    </tr>\n",
       "  </thead>\n",
       "  <tbody>\n",
       "    <tr>\n",
       "      <th>0</th>\n",
       "      <td>Photo Editor &amp; Candy Camera &amp; Grid &amp; ScrapBook</td>\n",
       "      <td>ART_AND_DESIGN</td>\n",
       "      <td>4.1</td>\n",
       "      <td>1.590000e+08</td>\n",
       "      <td>19.0</td>\n",
       "      <td>10000.0</td>\n",
       "      <td>Free</td>\n",
       "      <td>Everyone</td>\n",
       "    </tr>\n",
       "    <tr>\n",
       "      <th>1</th>\n",
       "      <td>Coloring book moana</td>\n",
       "      <td>ART_AND_DESIGN</td>\n",
       "      <td>3.9</td>\n",
       "      <td>9.670000e+08</td>\n",
       "      <td>14.0</td>\n",
       "      <td>500000.0</td>\n",
       "      <td>Free</td>\n",
       "      <td>Everyone</td>\n",
       "    </tr>\n",
       "    <tr>\n",
       "      <th>2</th>\n",
       "      <td>U Launcher Lite – FREE Live Cool Themes, Hide ...</td>\n",
       "      <td>ART_AND_DESIGN</td>\n",
       "      <td>4.7</td>\n",
       "      <td>8.751000e+10</td>\n",
       "      <td>8.7</td>\n",
       "      <td>5000000.0</td>\n",
       "      <td>Free</td>\n",
       "      <td>Everyone</td>\n",
       "    </tr>\n",
       "    <tr>\n",
       "      <th>3</th>\n",
       "      <td>Sketch - Draw &amp; Paint</td>\n",
       "      <td>ART_AND_DESIGN</td>\n",
       "      <td>4.5</td>\n",
       "      <td>2.156440e+11</td>\n",
       "      <td>25.0</td>\n",
       "      <td>50000000.0</td>\n",
       "      <td>Free</td>\n",
       "      <td>Teen</td>\n",
       "    </tr>\n",
       "    <tr>\n",
       "      <th>4</th>\n",
       "      <td>Pixel Draw - Number Art Coloring Book</td>\n",
       "      <td>ART_AND_DESIGN</td>\n",
       "      <td>4.3</td>\n",
       "      <td>9.670000e+08</td>\n",
       "      <td>2.8</td>\n",
       "      <td>100000.0</td>\n",
       "      <td>Free</td>\n",
       "      <td>Everyone</td>\n",
       "    </tr>\n",
       "  </tbody>\n",
       "</table>\n",
       "</div>"
      ],
      "text/plain": [
       "                                                 App        Category  Rating  \\\n",
       "0     Photo Editor & Candy Camera & Grid & ScrapBook  ART_AND_DESIGN     4.1   \n",
       "1                                Coloring book moana  ART_AND_DESIGN     3.9   \n",
       "2  U Launcher Lite – FREE Live Cool Themes, Hide ...  ART_AND_DESIGN     4.7   \n",
       "3                              Sketch - Draw & Paint  ART_AND_DESIGN     4.5   \n",
       "4              Pixel Draw - Number Art Coloring Book  ART_AND_DESIGN     4.3   \n",
       "\n",
       "        Reviews  Size    Installs  Type Content Rating  \n",
       "0  1.590000e+08  19.0     10000.0  Free       Everyone  \n",
       "1  9.670000e+08  14.0    500000.0  Free       Everyone  \n",
       "2  8.751000e+10   8.7   5000000.0  Free       Everyone  \n",
       "3  2.156440e+11  25.0  50000000.0  Free           Teen  \n",
       "4  9.670000e+08   2.8    100000.0  Free       Everyone  "
      ]
     },
     "execution_count": 16,
     "metadata": {},
     "output_type": "execute_result"
    }
   ],
   "source": [
    "#Droping all irrelavant columns\n",
    "data = data.drop(['Price', 'Genres', 'Last Updated','Current Ver','Android Ver'], axis = 1)\n",
    "data.head()"
   ]
  },
  {
   "cell_type": "code",
   "execution_count": 17,
   "metadata": {},
   "outputs": [
    {
     "name": "stdout",
     "output_type": "stream",
     "text": [
      "<class 'pandas.core.frame.DataFrame'>\n",
      "Int64Index: 7418 entries, 0 to 10840\n",
      "Data columns (total 8 columns):\n",
      "App               7418 non-null object\n",
      "Category          7418 non-null category\n",
      "Rating            7418 non-null float64\n",
      "Reviews           7418 non-null float64\n",
      "Size              7418 non-null float64\n",
      "Installs          7418 non-null float64\n",
      "Type              7418 non-null category\n",
      "Content Rating    7418 non-null category\n",
      "dtypes: category(3), float64(4), object(1)\n",
      "memory usage: 371.3+ KB\n"
     ]
    }
   ],
   "source": [
    "data.info()"
   ]
  },
  {
   "cell_type": "code",
   "execution_count": 18,
   "metadata": {},
   "outputs": [
    {
     "data": {
      "text/html": [
       "<div>\n",
       "<style scoped>\n",
       "    .dataframe tbody tr th:only-of-type {\n",
       "        vertical-align: middle;\n",
       "    }\n",
       "\n",
       "    .dataframe tbody tr th {\n",
       "        vertical-align: top;\n",
       "    }\n",
       "\n",
       "    .dataframe thead th {\n",
       "        text-align: right;\n",
       "    }\n",
       "</style>\n",
       "<table border=\"1\" class=\"dataframe\">\n",
       "  <thead>\n",
       "    <tr style=\"text-align: right;\">\n",
       "      <th></th>\n",
       "      <th>Rating</th>\n",
       "      <th>Reviews</th>\n",
       "      <th>Size</th>\n",
       "      <th>Installs</th>\n",
       "    </tr>\n",
       "  </thead>\n",
       "  <tbody>\n",
       "    <tr>\n",
       "      <th>count</th>\n",
       "      <td>7418.000000</td>\n",
       "      <td>7.418000e+03</td>\n",
       "      <td>7418.000000</td>\n",
       "      <td>7.418000e+03</td>\n",
       "    </tr>\n",
       "    <tr>\n",
       "      <th>mean</th>\n",
       "      <td>4.171394</td>\n",
       "      <td>2.789961e+11</td>\n",
       "      <td>22.760461</td>\n",
       "      <td>7.830035e+06</td>\n",
       "    </tr>\n",
       "    <tr>\n",
       "      <th>std</th>\n",
       "      <td>0.549812</td>\n",
       "      <td>1.744309e+12</td>\n",
       "      <td>23.439559</td>\n",
       "      <td>4.632233e+07</td>\n",
       "    </tr>\n",
       "    <tr>\n",
       "      <th>min</th>\n",
       "      <td>1.000000</td>\n",
       "      <td>1.000000e+06</td>\n",
       "      <td>0.000000</td>\n",
       "      <td>1.000000e+00</td>\n",
       "    </tr>\n",
       "    <tr>\n",
       "      <th>25%</th>\n",
       "      <td>4.000000</td>\n",
       "      <td>9.900000e+07</td>\n",
       "      <td>5.100000</td>\n",
       "      <td>1.000000e+04</td>\n",
       "    </tr>\n",
       "    <tr>\n",
       "      <th>50%</th>\n",
       "      <td>4.300000</td>\n",
       "      <td>2.067500e+09</td>\n",
       "      <td>14.000000</td>\n",
       "      <td>1.000000e+05</td>\n",
       "    </tr>\n",
       "    <tr>\n",
       "      <th>75%</th>\n",
       "      <td>4.500000</td>\n",
       "      <td>3.690075e+10</td>\n",
       "      <td>33.000000</td>\n",
       "      <td>1.000000e+06</td>\n",
       "    </tr>\n",
       "    <tr>\n",
       "      <th>max</th>\n",
       "      <td>5.000000</td>\n",
       "      <td>4.489389e+13</td>\n",
       "      <td>100.000000</td>\n",
       "      <td>1.000000e+09</td>\n",
       "    </tr>\n",
       "  </tbody>\n",
       "</table>\n",
       "</div>"
      ],
      "text/plain": [
       "            Rating       Reviews         Size      Installs\n",
       "count  7418.000000  7.418000e+03  7418.000000  7.418000e+03\n",
       "mean      4.171394  2.789961e+11    22.760461  7.830035e+06\n",
       "std       0.549812  1.744309e+12    23.439559  4.632233e+07\n",
       "min       1.000000  1.000000e+06     0.000000  1.000000e+00\n",
       "25%       4.000000  9.900000e+07     5.100000  1.000000e+04\n",
       "50%       4.300000  2.067500e+09    14.000000  1.000000e+05\n",
       "75%       4.500000  3.690075e+10    33.000000  1.000000e+06\n",
       "max       5.000000  4.489389e+13   100.000000  1.000000e+09"
      ]
     },
     "execution_count": 18,
     "metadata": {},
     "output_type": "execute_result"
    }
   ],
   "source": [
    "# View descriptive statistics of the dataframe\n",
    "data.describe()"
   ]
  },
  {
   "cell_type": "markdown",
   "metadata": {},
   "source": [
    "#### Analysing the data ####"
   ]
  },
  {
   "cell_type": "markdown",
   "metadata": {},
   "source": [
    " #### Q: Do Free apps get installed more than Paid apps?"
   ]
  },
  {
   "cell_type": "code",
   "execution_count": 19,
   "metadata": {},
   "outputs": [
    {
     "data": {
      "text/plain": [
       "(8444519.269023716, 80768.40733944954)"
      ]
     },
     "execution_count": 19,
     "metadata": {},
     "output_type": "execute_result"
    }
   ],
   "source": [
    "avg_free_installs = data[data['Type']=='Free'].mean()['Installs']\n",
    "avg_paid_installs = data[data['Type']=='Paid'].mean()['Installs']\n",
    "avg_free_installs, avg_paid_installs"
   ]
  },
  {
   "cell_type": "code",
   "execution_count": 20,
   "metadata": {},
   "outputs": [
    {
     "data": {
      "image/png": "[encoded data removed]",
      "text/plain": [
       "<Figure size 720x360 with 1 Axes>"
      ]
     },
     "metadata": {},
     "output_type": "display_data"
    }
   ],
   "source": [
    "plt.figure(figsize = [10, 5])\n",
    "plt.title('Paid installs v Free installs')\n",
    "plt.pie([avg_free_installs, avg_paid_installs], explode=(0, 0.1), labels=['Free','Paid'], colors = ['Green','Red'],\n",
    "        autopct='%1.1f%%', shadow=True, startangle=90);"
   ]
  },
  {
   "cell_type": "markdown",
   "metadata": {},
   "source": [
    "The average installation of free apps are way higher than the average installation of paid apps."
   ]
  },
  {
   "cell_type": "markdown",
   "metadata": {},
   "source": [
    "#### Q: Which are the most popular categories among developers?"
   ]
  },
  {
   "cell_type": "code",
   "execution_count": 21,
   "metadata": {},
   "outputs": [
    {
     "data": {
      "text/plain": [
       "FAMILY                 1590\n",
       "GAME                    959\n",
       "TOOLS                   633\n",
       "MEDICAL                 277\n",
       "PERSONALIZATION         277\n",
       "LIFESTYLE               273\n",
       "FINANCE                 263\n",
       "SPORTS                  232\n",
       "PRODUCTIVITY            231\n",
       "BUSINESS                225\n",
       "PHOTOGRAPHY             225\n",
       "COMMUNICATION           206\n",
       "HEALTH_AND_FITNESS      199\n",
       "SOCIAL                  170\n",
       "NEWS_AND_MAGAZINES      162\n",
       "SHOPPING                159\n",
       "TRAVEL_AND_LOCAL        147\n",
       "BOOKS_AND_REFERENCE     143\n",
       "DATING                  141\n",
       "VIDEO_PLAYERS           116\n",
       "EDUCATION                95\n",
       "MAPS_AND_NAVIGATION      95\n",
       "FOOD_AND_DRINK           82\n",
       "ENTERTAINMENT            67\n",
       "AUTO_AND_VEHICLES        63\n",
       "LIBRARIES_AND_DEMO       61\n",
       "ART_AND_DESIGN           58\n",
       "WEATHER                  51\n",
       "HOUSE_AND_HOME           50\n",
       "COMICS                   49\n",
       "PARENTING                44\n",
       "EVENTS                   38\n",
       "BEAUTY                   37\n",
       "Name: Category, dtype: int64"
      ]
     },
     "execution_count": 21,
     "metadata": {},
     "output_type": "execute_result"
    }
   ],
   "source": [
    "data.Category.value_counts()"
   ]
  },
  {
   "cell_type": "markdown",
   "metadata": {},
   "source": [
    "Therefore Family and Game are the two most popular categories among developers."
   ]
  },
  {
   "cell_type": "markdown",
   "metadata": {},
   "source": [
    "#### Q: Which are the most popular categories among users?"
   ]
  },
  {
   "cell_type": "code",
   "execution_count": 22,
   "metadata": {},
   "outputs": [
    {
     "data": {
      "image/png": "[encoded data removed]",
      "text/plain": [
       "<Figure size 720x1080 with 1 Axes>"
      ]
     },
     "metadata": {
      "needs_background": "light"
     },
     "output_type": "display_data"
    }
   ],
   "source": [
    "plt.figure(figsize = [10, 15])\n",
    "plt.title('Popular Categories')\n",
    "sb.barplot(data= data, y = 'Category', x = 'Installs');"
   ]
  },
  {
   "cell_type": "markdown",
   "metadata": {},
   "source": [
    "Therefore the above visuals clarifies the most popular category is COMMUNICATION while the MEDICAL category has the least popularity."
   ]
  },
  {
   "cell_type": "markdown",
   "metadata": {},
   "source": [
    "#### Q: Does app rating influence app installation?"
   ]
  },
  {
   "cell_type": "code",
   "execution_count": 23,
   "metadata": {},
   "outputs": [
    {
     "data": {
      "image/png": "[encoded data removed]",
      "text/plain": [
       "<Figure size 1080x360 with 1 Axes>"
      ]
     },
     "metadata": {
      "needs_background": "light"
     },
     "output_type": "display_data"
    }
   ],
   "source": [
    "plt.figure(figsize = [15, 5])\n",
    "plt.title('Ratings on Installs')\n",
    "sb.barplot(data= data, y = 'Installs', x = 'Rating');"
   ]
  },
  {
   "cell_type": "markdown",
   "metadata": {},
   "source": [
    "Hence, we can clearly state that the apps with rating within 3.9 to 4.6 have the most installations. It is note worthy that highest rated apps have not been installed most. This is probably due to human bias that most people dont give full ratings to apps even when they like it."
   ]
  },
  {
   "cell_type": "code",
   "execution_count": null,
   "metadata": {},
   "outputs": [],
   "source": []
  }
 ],
 "metadata": {
  "kernelspec": {
   "display_name": "Python 3",
   "language": "python",
   "name": "python3"
  },
  "language_info": {
   "codemirror_mode": {
    "name": "ipython",
    "version": 3
   },
   "file_extension": ".py",
   "mimetype": "text/x-python",
   "name": "python",
   "nbconvert_exporter": "python",
   "pygments_lexer": "ipython3",
   "version": "3.7.1"
  }
 },
 "nbformat": 4,
 "nbformat_minor": 2
}
